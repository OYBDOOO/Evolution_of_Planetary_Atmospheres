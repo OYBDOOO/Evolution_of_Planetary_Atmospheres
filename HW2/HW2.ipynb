{
 "cells": [
  {
   "cell_type": "code",
   "execution_count": 14,
   "id": "d13b2177",
   "metadata": {},
   "outputs": [],
   "source": [
    "import numpy as np, pandas as pd, matplotlib.pyplot as plt, os\n"
   ]
  },
  {
   "cell_type": "code",
   "execution_count": 15,
   "id": "62aed27b",
   "metadata": {},
   "outputs": [],
   "source": [
    "M_N2 = 28.014  # g/mol\n",
    "M_CO2 = 44.01\n",
    "M_O2 = 32.00\n",
    "data = {\n",
    "    \"planet\": [\"Venus\", \"Earth\", \"Mars\", \"Titan\", \"Pluto\"],\n",
    "    \"radius_km\": [6052, 6371, 3390, 2575, 1188],\n",
    "    \"g\": [8.87, 9.81, 3.71, 1.35, 0.62],\n",
    "    \"p_surface_Pa\": [9.2e6, 1.0e5, 600, 1.5e5, 1.3],\n",
    "    \"f_N2_mole\": [0.035, 0.7808, 0.027, 1.0, 1.0],  # Titan & Pluto 设为 1\n",
    "    \"M_bg\": [M_CO2, M_O2, M_CO2, M_N2, M_N2],\n",
    "}\n",
    "df = pd.DataFrame(data)"
   ]
  },
  {
   "cell_type": "code",
   "execution_count": 16,
   "id": "02538540",
   "metadata": {},
   "outputs": [
    {
     "name": "stdout",
     "output_type": "stream",
     "text": [
      "  planet  f_N2_mole  f_N2_mass\n",
      "0  Venus     0.0350   0.022566\n",
      "1  Earth     0.7808   0.757184\n",
      "2   Mars     0.0270   0.017357\n",
      "3  Titan     1.0000   1.000000\n",
      "4  Pluto     1.0000   1.000000\n"
     ]
    }
   ],
   "source": [
    "def mole_to_mass_fraction(f_N2, M_bg):\n",
    "    if f_N2 >= 0.999:\n",
    "        return 1.0\n",
    "    return (f_N2 * M_N2) / (f_N2 * M_N2 + (1 - f_N2) * M_bg)\n",
    "\n",
    "df[\"f_N2_mass\"] = [mole_to_mass_fraction(f, bg) for f, bg in zip(df[\"f_N2_mole\"], df[\"M_bg\"])]\n",
    "print(df[[\"planet\", \"f_N2_mole\", \"f_N2_mass\"]])"
   ]
  },
  {
   "cell_type": "code",
   "execution_count": 19,
   "id": "c04208de",
   "metadata": {},
   "outputs": [],
   "source": [
    "R_m = df[\"radius_km\"] * 1e3\n",
    "M_atm = 4 * np.pi * R_m**2 * df[\"p_surface_Pa\"] / df[\"g\"]  # [kg]\n",
    "M_N2 = df[\"f_N2_mass\"] * M_atm\n",
    "df[\"M_N2_kg\"] = M_N2"
   ]
  },
  {
   "cell_type": "code",
   "execution_count": 20,
   "id": "6bd54adf",
   "metadata": {},
   "outputs": [
    {
     "name": "stdout",
     "output_type": "stream",
     "text": [
      "planet  f_N2_mole   M_N2_kg  N2_mass_ratio_to_Earth\n",
      " Venus  3.500e-02 1.077e+19               2.736e+00\n",
      " Earth  7.808e-01 3.937e+18               1.000e+00\n",
      "  Mars  2.700e-02 4.054e+14               1.030e-04\n",
      " Titan  1.000e+00 9.258e+18               2.352e+00\n",
      " Pluto  1.000e+00 3.719e+13               9.446e-06\n"
     ]
    }
   ],
   "source": [
    "M_N2_Earth = M_N2[df[\"planet\"] == \"Earth\"].values[0]\n",
    "df[\"N2_mass_ratio_to_Earth\"] = M_N2 / M_N2_Earth\n",
    "\n",
    "cols = [\"planet\", \"f_N2_mole\", \"M_N2_kg\", \"N2_mass_ratio_to_Earth\"]\n",
    "print(df[cols].to_string(index=False, float_format=lambda x: f\"{x:.3e}\"))"
   ]
  }
 ],
 "metadata": {
  "kernelspec": {
   "display_name": "pc_project",
   "language": "python",
   "name": "python3"
  },
  "language_info": {
   "codemirror_mode": {
    "name": "ipython",
    "version": 3
   },
   "file_extension": ".py",
   "mimetype": "text/x-python",
   "name": "python",
   "nbconvert_exporter": "python",
   "pygments_lexer": "ipython3",
   "version": "3.12.11"
  }
 },
 "nbformat": 4,
 "nbformat_minor": 5
}
