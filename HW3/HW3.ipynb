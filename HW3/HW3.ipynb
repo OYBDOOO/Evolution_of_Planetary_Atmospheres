{
 "cells": [
  {
   "cell_type": "code",
   "execution_count": 1,
   "id": "a442b84d",
   "metadata": {},
   "outputs": [],
   "source": [
    "import numpy as np, pandas as pd, matplotlib.pyplot as plt, os\n"
   ]
  },
  {
   "cell_type": "code",
   "execution_count": 2,
   "id": "2e5bdea7",
   "metadata": {},
   "outputs": [],
   "source": [
    "g = 0.779               # m/s^2, Triton gravity\n",
    "Teff = 38.0             # K, effective temperature\n",
    "cp = 1040.0             # J/(kg·K), specific heat capacity of N2\n",
    "R = 8.314 / 0.028       # J/(kg·K), gas constant for N2\n"
   ]
  },
  {
   "cell_type": "code",
   "execution_count": null,
   "id": "6ee54cda",
   "metadata": {},
   "outputs": [
    {
     "name": "stdout",
     "output_type": "stream",
     "text": [
      "Skin temperature Ts = 31.95 K\n",
      "Dry adiabatic lapse rate Γ = 0.7490 K/km\n",
      "Estimated troposphere thickness H = 8.07 km\n"
     ]
    }
   ],
   "source": [
    "# 1. Skin (surface) temperature from radiative equilibrium\n",
    "Ts =  Teff/(2 ** 0.25)  # gray atmosphere approximation\n",
    "\n",
    "# 2. Dry adiabatic lapse rate\n",
    "Gamma = g / cp           # K/m\n",
    "\n",
    "# 3. Troposphere height where T falls from Ts to Teff\n",
    "H = (Teff - Ts) / Gamma  # m\n",
    "\n",
    "# 输出结果\n",
    "print(f\"Skin temperature Ts = {Ts:.2f} K\")\n",
    "print(f\"Dry adiabatic lapse rate Γ = {Gamma*1000:.4f} K/km\")\n",
    "print(f\"Estimated troposphere thickness H = {H/1000:.2f} km\")"
   ]
  }
 ],
 "metadata": {
  "kernelspec": {
   "display_name": "pc_project",
   "language": "python",
   "name": "python3"
  },
  "language_info": {
   "codemirror_mode": {
    "name": "ipython",
    "version": 3
   },
   "file_extension": ".py",
   "mimetype": "text/x-python",
   "name": "python",
   "nbconvert_exporter": "python",
   "pygments_lexer": "ipython3",
   "version": "3.12.11"
  }
 },
 "nbformat": 4,
 "nbformat_minor": 5
}
